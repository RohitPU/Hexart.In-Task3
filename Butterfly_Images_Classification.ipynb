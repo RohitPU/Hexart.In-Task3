{
  "nbformat": 4,
  "nbformat_minor": 0,
  "metadata": {
    "colab": {
      "provenance": [],
      "toc_visible": true,
      "include_colab_link": true
    },
    "kernelspec": {
      "name": "python3",
      "display_name": "Python 3"
    },
    "language_info": {
      "name": "python"
    },
    "accelerator": "GPU",
    "gpuClass": "standard"
  },
  "cells": [
    {
      "cell_type": "markdown",
      "metadata": {
        "id": "view-in-github",
        "colab_type": "text"
      },
      "source": [
        "<a href=\"https://colab.research.google.com/github/RohitPU/Hexart.In-Task3/blob/main/Butterfly_Images_Classification.ipynb\" target=\"_parent\"><img src=\"https://colab.research.google.com/assets/colab-badge.svg\" alt=\"Open In Colab\"/></a>"
      ]
    },
    {
      "cell_type": "markdown",
      "source": [
        "UPLOADING DATASET"
      ],
      "metadata": {
        "id": "3_Ws2c1JxKJm"
      }
    },
    {
      "cell_type": "code",
      "source": [
        "with open('/content/kaggle.json', 'w') as f:\n",
        "  f.write('{\"username\":\"rohitpokalkar\",\"key\":\"1b57df9d5b60cfd2a3ac238292be9958\"}')"
      ],
      "metadata": {
        "id": "5faiuOO_aSf3"
      },
      "execution_count": 2,
      "outputs": []
    },
    {
      "cell_type": "code",
      "source": [
        "!mkdir -p ~/.kaggle\n",
        "!cp kaggle.json ~/.kaggle/"
      ],
      "metadata": {
        "id": "jv4QRYflv4Oe"
      },
      "execution_count": 3,
      "outputs": []
    },
    {
      "cell_type": "code",
      "source": [
        "!chmod 600 /root/.kaggle/kaggle.json\n",
        "!kaggle datasets download -d gpiosenka/butterfly-images40-species"
      ],
      "metadata": {
        "id": "IkDikGv7wofi",
        "colab": {
          "base_uri": "https://localhost:8080/"
        },
        "outputId": "6c075c1b-7d6e-48b6-cf59-29489cf88bd6"
      },
      "execution_count": 4,
      "outputs": [
        {
          "output_type": "stream",
          "name": "stdout",
          "text": [
            "Downloading butterfly-images40-species.zip to /content\n",
            "100% 452M/454M [00:15<00:00, 39.4MB/s]\n",
            "100% 454M/454M [00:15<00:00, 30.6MB/s]\n"
          ]
        }
      ]
    },
    {
      "cell_type": "code",
      "source": [
        "import zipfile\n",
        "zip_ref = zipfile.ZipFile('/content/butterfly-images40-species.zip', 'r')\n",
        "zip_ref.extractall('/content')\n",
        "zip_ref.close()"
      ],
      "metadata": {
        "id": "imApZ1FmwydQ"
      },
      "execution_count": 5,
      "outputs": []
    },
    {
      "cell_type": "markdown",
      "source": [
        "IMPORTING LIBRARIES"
      ],
      "metadata": {
        "id": "k-q91EleS99H"
      }
    },
    {
      "cell_type": "code",
      "source": [
        "import tensorflow as tf\n",
        "import numpy as np\n",
        "import os\n",
        "from matplotlib import pyplot as plt\n",
        "from tensorflow import keras\n",
        "from keras import Sequential\n",
        "from keras.layers import Dense,Conv2D,MaxPooling2D,Flatten,BatchNormalization,Dropout"
      ],
      "metadata": {
        "id": "i-S97aBLxUlE"
      },
      "execution_count": 6,
      "outputs": []
    },
    {
      "cell_type": "markdown",
      "source": [
        "TRAINING DATA"
      ],
      "metadata": {
        "id": "MwipLXkNikDr"
      }
    },
    {
      "cell_type": "code",
      "source": [
        "train_dir = '/content/train'\n",
        "validation_dir = '/content/valid'\n",
        "\n",
        "class_names = []\n",
        "for subdir in os.listdir(train_dir):\n",
        "    class_names.append(subdir)\n",
        "    \n",
        "class_names_label = {class_name:i for i, class_name in enumerate(class_names)}\n",
        "nb_classes = len(class_names)\n",
        "print(f'no.of classes: {nb_classes}')\n",
        "\n",
        "nmb_train = 0\n",
        "for subdir in os.listdir(train_dir):\n",
        "    for filename in os.listdir(os.path.join(train_dir,subdir)):\n",
        "        nmb_train +=1\n",
        "        \n",
        "nmb_val = 0\n",
        "for subdir in os.listdir(validation_dir):\n",
        "    for filename in os.listdir(os.path.join(validation_dir,subdir)):\n",
        "        nmb_val +=1"
      ],
      "metadata": {
        "colab": {
          "base_uri": "https://localhost:8080/"
        },
        "id": "hN_rOs_Jc-4Q",
        "outputId": "83575a17-71fd-47fd-c59b-9f0716b0ca74"
      },
      "execution_count": 8,
      "outputs": [
        {
          "output_type": "stream",
          "name": "stdout",
          "text": [
            "no.of classes: 100\n"
          ]
        }
      ]
    },
    {
      "cell_type": "code",
      "source": [
        "print(f'number of training images: {nmb_train}')\n",
        "print(f'number of validation images: {nmb_val}')"
      ],
      "metadata": {
        "colab": {
          "base_uri": "https://localhost:8080/"
        },
        "id": "m04FGuf4d2SC",
        "outputId": "5bc26102-3f12-4693-f741-3e7b8a4bd2d1"
      },
      "execution_count": 9,
      "outputs": [
        {
          "output_type": "stream",
          "name": "stdout",
          "text": [
            "number of training images: 12639\n",
            "number of validation images: 500\n"
          ]
        }
      ]
    },
    {
      "cell_type": "code",
      "source": [
        "from keras.preprocessing.image import ImageDataGenerator"
      ],
      "metadata": {
        "id": "QkkDd1mqeX_7"
      },
      "execution_count": 10,
      "outputs": []
    },
    {
      "cell_type": "markdown",
      "source": [
        "GENERATORS"
      ],
      "metadata": {
        "id": "yHBNFB9PjCBj"
      }
    },
    {
      "cell_type": "code",
      "source": [
        "train_generator = ImageDataGenerator(rescale = 1./255.)\n",
        "\n",
        "test_generator = ImageDataGenerator( rescale = 1./255. )\n",
        "\n",
        "valid_generator = ImageDataGenerator( rescale = 1./255. )\n",
        "\n",
        "train = train_generator.flow_from_directory(train_dir, batch_size = 20, class_mode = 'categorical', classes=class_names, target_size = (256, 256))\n",
        "\n",
        "valid = valid_generator.flow_from_directory( validation_dir,  batch_size = 20, class_mode = 'categorical',classes=class_names, target_size = (256, 256))\n"
      ],
      "metadata": {
        "colab": {
          "base_uri": "https://localhost:8080/"
        },
        "id": "TVNFxQfleSx9",
        "outputId": "4cc7a66d-5ef2-4a3b-f822-bcc03e9547d8"
      },
      "execution_count": 11,
      "outputs": [
        {
          "output_type": "stream",
          "name": "stdout",
          "text": [
            "Found 12639 images belonging to 100 classes.\n",
            "Found 500 images belonging to 100 classes.\n"
          ]
        }
      ]
    },
    {
      "cell_type": "markdown",
      "source": [
        "CNN MODEL"
      ],
      "metadata": {
        "id": "5JKytjcCzqmO"
      }
    },
    {
      "cell_type": "code",
      "source": [
        "model = tf.keras.Sequential([\n",
        "    tf.keras.layers.Conv2D(32, (3, 3), activation = 'relu', input_shape = (256, 256, 3)), \n",
        "    tf.keras.layers.MaxPooling2D(2,2),\n",
        "    tf.keras.layers.Conv2D(32, (3, 3), activation = 'relu'),\n",
        "    tf.keras.layers.MaxPooling2D(2,2),\n",
        "    tf.keras.layers.Flatten(),\n",
        "    tf.keras.layers.Dense(128, activation=tf.nn.relu),\n",
        "    tf.keras.layers.Dense(100, activation=tf.nn.softmax)\n",
        "])\n",
        "\n",
        "model.compile(loss='categorical_crossentropy',optimizer='adam',metrics=['accuracy'])"
      ],
      "metadata": {
        "id": "cI2TTD81Zter"
      },
      "execution_count": 12,
      "outputs": []
    },
    {
      "cell_type": "code",
      "source": [
        "model.summary()"
      ],
      "metadata": {
        "colab": {
          "base_uri": "https://localhost:8080/"
        },
        "id": "ebMpzR1Zz5SI",
        "outputId": "73b0f067-eace-4b9f-83f2-bf2e353ac83d"
      },
      "execution_count": 13,
      "outputs": [
        {
          "output_type": "stream",
          "name": "stdout",
          "text": [
            "Model: \"sequential\"\n",
            "_________________________________________________________________\n",
            " Layer (type)                Output Shape              Param #   \n",
            "=================================================================\n",
            " conv2d (Conv2D)             (None, 254, 254, 32)      896       \n",
            "                                                                 \n",
            " max_pooling2d (MaxPooling2D  (None, 127, 127, 32)     0         \n",
            " )                                                               \n",
            "                                                                 \n",
            " conv2d_1 (Conv2D)           (None, 125, 125, 32)      9248      \n",
            "                                                                 \n",
            " max_pooling2d_1 (MaxPooling  (None, 62, 62, 32)       0         \n",
            " 2D)                                                             \n",
            "                                                                 \n",
            " flatten (Flatten)           (None, 123008)            0         \n",
            "                                                                 \n",
            " dense (Dense)               (None, 128)               15745152  \n",
            "                                                                 \n",
            " dense_1 (Dense)             (None, 100)               12900     \n",
            "                                                                 \n",
            "=================================================================\n",
            "Total params: 15,768,196\n",
            "Trainable params: 15,768,196\n",
            "Non-trainable params: 0\n",
            "_________________________________________________________________\n"
          ]
        }
      ]
    },
    {
      "cell_type": "markdown",
      "source": [
        "ACCURACY"
      ],
      "metadata": {
        "id": "TkIZPQ9cjMnH"
      }
    },
    {
      "cell_type": "code",
      "source": [
        "history = model.fit(train, validation_data = valid,epochs = 50, batch_size=32)"
      ],
      "metadata": {
        "colab": {
          "base_uri": "https://localhost:8080/"
        },
        "id": "g3gpWL8weyf9",
        "outputId": "ff23cb32-94d9-4ebc-c4ca-5dfc767942fe"
      },
      "execution_count": 14,
      "outputs": [
        {
          "output_type": "stream",
          "name": "stdout",
          "text": [
            "Epoch 1/50\n",
            "632/632 [==============================] - 42s 54ms/step - loss: 3.6638 - accuracy: 0.1850 - val_loss: 2.4998 - val_accuracy: 0.3920\n",
            "Epoch 2/50\n",
            "632/632 [==============================] - 33s 53ms/step - loss: 1.7034 - accuracy: 0.5805 - val_loss: 2.1283 - val_accuracy: 0.4740\n",
            "Epoch 3/50\n",
            "632/632 [==============================] - 33s 52ms/step - loss: 0.4181 - accuracy: 0.8928 - val_loss: 3.0056 - val_accuracy: 0.4620\n",
            "Epoch 4/50\n",
            "632/632 [==============================] - 33s 52ms/step - loss: 0.1105 - accuracy: 0.9745 - val_loss: 3.4889 - val_accuracy: 0.4420\n",
            "Epoch 5/50\n",
            "632/632 [==============================] - 32s 51ms/step - loss: 0.0677 - accuracy: 0.9867 - val_loss: 3.9425 - val_accuracy: 0.4380\n",
            "Epoch 6/50\n",
            "632/632 [==============================] - 32s 51ms/step - loss: 0.0644 - accuracy: 0.9841 - val_loss: 4.0687 - val_accuracy: 0.4460\n",
            "Epoch 7/50\n",
            "632/632 [==============================] - 32s 51ms/step - loss: 0.0370 - accuracy: 0.9897 - val_loss: 4.7731 - val_accuracy: 0.4260\n",
            "Epoch 8/50\n",
            "632/632 [==============================] - 33s 52ms/step - loss: 0.0505 - accuracy: 0.9871 - val_loss: 5.0410 - val_accuracy: 0.4480\n",
            "Epoch 9/50\n",
            "632/632 [==============================] - 32s 50ms/step - loss: 0.0576 - accuracy: 0.9850 - val_loss: 5.0433 - val_accuracy: 0.4260\n",
            "Epoch 10/50\n",
            "632/632 [==============================] - 32s 51ms/step - loss: 0.0648 - accuracy: 0.9840 - val_loss: 5.7554 - val_accuracy: 0.4080\n",
            "Epoch 11/50\n",
            "632/632 [==============================] - 32s 50ms/step - loss: 0.0334 - accuracy: 0.9926 - val_loss: 5.2628 - val_accuracy: 0.4240\n",
            "Epoch 12/50\n",
            "632/632 [==============================] - 32s 51ms/step - loss: 0.0248 - accuracy: 0.9941 - val_loss: 6.7053 - val_accuracy: 0.4220\n",
            "Epoch 13/50\n",
            "632/632 [==============================] - 32s 51ms/step - loss: 0.0345 - accuracy: 0.9900 - val_loss: 6.5693 - val_accuracy: 0.4180\n",
            "Epoch 14/50\n",
            "632/632 [==============================] - 33s 52ms/step - loss: 0.0464 - accuracy: 0.9883 - val_loss: 6.5618 - val_accuracy: 0.4200\n",
            "Epoch 15/50\n",
            "632/632 [==============================] - 32s 51ms/step - loss: 0.0393 - accuracy: 0.9884 - val_loss: 5.9854 - val_accuracy: 0.4000\n",
            "Epoch 16/50\n",
            "632/632 [==============================] - 32s 51ms/step - loss: 0.0289 - accuracy: 0.9927 - val_loss: 6.0428 - val_accuracy: 0.4160\n",
            "Epoch 17/50\n",
            "632/632 [==============================] - 32s 51ms/step - loss: 0.0260 - accuracy: 0.9941 - val_loss: 6.7736 - val_accuracy: 0.3660\n",
            "Epoch 18/50\n",
            "632/632 [==============================] - 32s 50ms/step - loss: 0.0156 - accuracy: 0.9960 - val_loss: 7.4622 - val_accuracy: 0.3680\n",
            "Epoch 19/50\n",
            "632/632 [==============================] - 33s 53ms/step - loss: 0.0189 - accuracy: 0.9961 - val_loss: 7.0803 - val_accuracy: 0.4280\n",
            "Epoch 20/50\n",
            "632/632 [==============================] - 32s 51ms/step - loss: 0.0392 - accuracy: 0.9909 - val_loss: 7.2645 - val_accuracy: 0.3840\n",
            "Epoch 21/50\n",
            "632/632 [==============================] - 32s 50ms/step - loss: 0.0248 - accuracy: 0.9954 - val_loss: 6.6146 - val_accuracy: 0.4380\n",
            "Epoch 22/50\n",
            "632/632 [==============================] - 32s 51ms/step - loss: 0.0062 - accuracy: 0.9984 - val_loss: 7.7130 - val_accuracy: 0.3720\n",
            "Epoch 23/50\n",
            "632/632 [==============================] - 32s 50ms/step - loss: 0.0525 - accuracy: 0.9867 - val_loss: 6.6179 - val_accuracy: 0.4020\n",
            "Epoch 24/50\n",
            "632/632 [==============================] - 32s 50ms/step - loss: 0.0230 - accuracy: 0.9944 - val_loss: 7.4113 - val_accuracy: 0.3840\n",
            "Epoch 25/50\n",
            "632/632 [==============================] - 33s 52ms/step - loss: 0.0169 - accuracy: 0.9955 - val_loss: 7.3522 - val_accuracy: 0.3840\n",
            "Epoch 26/50\n",
            "632/632 [==============================] - 32s 50ms/step - loss: 0.0197 - accuracy: 0.9955 - val_loss: 9.0493 - val_accuracy: 0.3460\n",
            "Epoch 27/50\n",
            "632/632 [==============================] - 32s 50ms/step - loss: 0.0187 - accuracy: 0.9951 - val_loss: 7.5445 - val_accuracy: 0.4280\n",
            "Epoch 28/50\n",
            "632/632 [==============================] - 32s 50ms/step - loss: 0.0322 - accuracy: 0.9934 - val_loss: 8.5653 - val_accuracy: 0.3740\n",
            "Epoch 29/50\n",
            "632/632 [==============================] - 32s 50ms/step - loss: 0.0165 - accuracy: 0.9957 - val_loss: 7.7335 - val_accuracy: 0.3960\n",
            "Epoch 30/50\n",
            "632/632 [==============================] - 33s 51ms/step - loss: 0.0263 - accuracy: 0.9946 - val_loss: 7.8297 - val_accuracy: 0.4020\n",
            "Epoch 31/50\n",
            "632/632 [==============================] - 32s 51ms/step - loss: 0.0136 - accuracy: 0.9979 - val_loss: 8.0601 - val_accuracy: 0.4220\n",
            "Epoch 32/50\n",
            "632/632 [==============================] - 32s 50ms/step - loss: 5.2983e-04 - accuracy: 0.9999 - val_loss: 8.2412 - val_accuracy: 0.4120\n",
            "Epoch 33/50\n",
            "632/632 [==============================] - 32s 50ms/step - loss: 6.4635e-05 - accuracy: 1.0000 - val_loss: 7.9468 - val_accuracy: 0.4360\n",
            "Epoch 34/50\n",
            "632/632 [==============================] - 32s 51ms/step - loss: 1.6188e-05 - accuracy: 1.0000 - val_loss: 8.0259 - val_accuracy: 0.4300\n",
            "Epoch 35/50\n",
            "632/632 [==============================] - 32s 50ms/step - loss: 9.1039e-06 - accuracy: 1.0000 - val_loss: 8.1018 - val_accuracy: 0.4300\n",
            "Epoch 36/50\n",
            "632/632 [==============================] - 33s 52ms/step - loss: 6.4137e-06 - accuracy: 1.0000 - val_loss: 8.1789 - val_accuracy: 0.4300\n",
            "Epoch 37/50\n",
            "632/632 [==============================] - 32s 51ms/step - loss: 4.7016e-06 - accuracy: 1.0000 - val_loss: 8.2538 - val_accuracy: 0.4320\n",
            "Epoch 38/50\n",
            "632/632 [==============================] - 32s 51ms/step - loss: 3.5061e-06 - accuracy: 1.0000 - val_loss: 8.3304 - val_accuracy: 0.4340\n",
            "Epoch 39/50\n",
            "632/632 [==============================] - 32s 51ms/step - loss: 2.6396e-06 - accuracy: 1.0000 - val_loss: 8.4084 - val_accuracy: 0.4360\n",
            "Epoch 40/50\n",
            "632/632 [==============================] - 32s 50ms/step - loss: 2.0015e-06 - accuracy: 1.0000 - val_loss: 8.4880 - val_accuracy: 0.4360\n",
            "Epoch 41/50\n",
            "632/632 [==============================] - 32s 51ms/step - loss: 1.5150e-06 - accuracy: 1.0000 - val_loss: 8.5673 - val_accuracy: 0.4380\n",
            "Epoch 42/50\n",
            "632/632 [==============================] - 32s 51ms/step - loss: 1.1466e-06 - accuracy: 1.0000 - val_loss: 8.6478 - val_accuracy: 0.4400\n",
            "Epoch 43/50\n",
            "632/632 [==============================] - 32s 50ms/step - loss: 8.7043e-07 - accuracy: 1.0000 - val_loss: 8.7317 - val_accuracy: 0.4360\n",
            "Epoch 44/50\n",
            "632/632 [==============================] - 32s 51ms/step - loss: 6.5830e-07 - accuracy: 1.0000 - val_loss: 8.8208 - val_accuracy: 0.4360\n",
            "Epoch 45/50\n",
            "632/632 [==============================] - 32s 50ms/step - loss: 4.9711e-07 - accuracy: 1.0000 - val_loss: 8.9103 - val_accuracy: 0.4380\n",
            "Epoch 46/50\n",
            "632/632 [==============================] - 32s 51ms/step - loss: 3.7384e-07 - accuracy: 1.0000 - val_loss: 9.0031 - val_accuracy: 0.4380\n",
            "Epoch 47/50\n",
            "632/632 [==============================] - 32s 51ms/step - loss: 2.8051e-07 - accuracy: 1.0000 - val_loss: 9.0964 - val_accuracy: 0.4380\n",
            "Epoch 48/50\n",
            "632/632 [==============================] - 33s 52ms/step - loss: 2.1040e-07 - accuracy: 1.0000 - val_loss: 9.1975 - val_accuracy: 0.4400\n",
            "Epoch 49/50\n",
            "632/632 [==============================] - 32s 51ms/step - loss: 1.5714e-07 - accuracy: 1.0000 - val_loss: 9.2983 - val_accuracy: 0.4380\n",
            "Epoch 50/50\n",
            "632/632 [==============================] - 32s 50ms/step - loss: 1.1776e-07 - accuracy: 1.0000 - val_loss: 9.4011 - val_accuracy: 0.4380\n"
          ]
        }
      ]
    }
  ]
}